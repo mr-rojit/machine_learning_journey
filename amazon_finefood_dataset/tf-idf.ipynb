{
 "cells": [
  {
   "cell_type": "markdown",
   "id": "ecb25639",
   "metadata": {},
   "source": [
    "#  <center>TF-IDF</center>\n",
    "## <center>Term frequency - inverse document frequency<center/>\n",
    "In information retrieval, tf–idf, short for term frequency–inverse document frequency, is a measure of importance of a word to a document in a collection or corpus, adjusted for the fact that some words appear more frequently in general."
   ]
  },
  {
   "cell_type": "markdown",
   "id": "029d870b",
   "metadata": {},
   "source": [
    "## Term frequency\n",
    "<img src=\"images/tf.jpg\" width=\"600px\" />"
   ]
  },
  {
   "cell_type": "markdown",
   "id": "a3cb2478",
   "metadata": {},
   "source": [
    "## Inverse document frequency\n",
    "<img src=\"images/idf.jpg\" width=\"600px\" />"
   ]
  },
  {
   "cell_type": "markdown",
   "id": "a30c37d3",
   "metadata": {},
   "source": [
    "### IDF >= 0\n",
    "if ni increases the N/ni decreases (if ni is large then it means that word is more frequent across our courpus) <br>\n",
    "the log(N/ni) also decrease <br>\n",
    "\n",
    "For example: <br>\n",
    "\n",
    "The word \"the\" might occour in all text/documents and it will be close to N. ni approaches N. <br>\n",
    "\n",
    "#### So if word is more frequent the IDF will be lower\n",
    "<hr>\n",
    "\n",
    "#### Combining TF-IDF\n",
    "\n",
    "<img src=\"images/tf-idf.jpg\" width=\"500px\"/>"
   ]
  },
  {
   "cell_type": "code",
   "execution_count": null,
   "id": "c6e5f988",
   "metadata": {},
   "outputs": [],
   "source": []
  }
 ],
 "metadata": {
  "kernelspec": {
   "display_name": "Python 3 (ipykernel)",
   "language": "python",
   "name": "python3"
  },
  "language_info": {
   "codemirror_mode": {
    "name": "ipython",
    "version": 3
   },
   "file_extension": ".py",
   "mimetype": "text/x-python",
   "name": "python",
   "nbconvert_exporter": "python",
   "pygments_lexer": "ipython3",
   "version": "3.11.5"
  }
 },
 "nbformat": 4,
 "nbformat_minor": 5
}
